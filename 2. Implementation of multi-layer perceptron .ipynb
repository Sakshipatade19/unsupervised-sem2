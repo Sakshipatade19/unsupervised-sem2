{
 "cells": [
  {
   "cell_type": "code",
   "execution_count": 16,
   "id": "725cfd9d-123e-4e34-986c-00e4d7ea10a9",
   "metadata": {},
   "outputs": [],
   "source": [
    "import numpy as np\n",
    "from tensorflow.keras.models import Sequential\n",
    "from tensorflow.keras.layers import Dense\n",
    "from sklearn.datasets import load_breast_cancer\n",
    "from sklearn.model_selection import train_test_split\n",
    "from sklearn.preprocessing import StandardScaler\n",
    "from sklearn.metrics import classification_report\n",
    "import matplotlib.pyplot as plt"
   ]
  },
  {
   "cell_type": "code",
   "execution_count": 17,
   "id": "f9687496-db9b-4cc5-aefc-50aea0e6f9bb",
   "metadata": {},
   "outputs": [],
   "source": [
    "# Load the Breast Cancer dataset\n",
    "data = load_breast_cancer()\n",
    "X = data.data  # Features\n",
    "y = data.target  # Binary target (0 = Benign, 1 = Malignant)"
   ]
  },
  {
   "cell_type": "code",
   "execution_count": 18,
   "id": "6a7aeaac-6a6f-4524-98a8-e1c899e08458",
   "metadata": {},
   "outputs": [],
   "source": [
    "# Split into train and test datasets\n",
    "X_train, X_test, y_train, y_test = train_test_split(X, y, test_size=0.2, random_state=42)"
   ]
  },
  {
   "cell_type": "code",
   "execution_count": 19,
   "id": "378fb4d7-432f-4601-8dea-d63161ed6377",
   "metadata": {},
   "outputs": [],
   "source": [
    "# Standardize the dataset\n",
    "scaler = StandardScaler()\n",
    "X_train = scaler.fit_transform(X_train)\n",
    "X_test = scaler.transform(X_test)"
   ]
  },
  {
   "cell_type": "code",
   "execution_count": 20,
   "id": "20188a6c-ff82-4aab-b5f7-ae3f3572deeb",
   "metadata": {},
   "outputs": [],
   "source": [
    "# Define the MLP model\n",
    "model = Sequential([\n",
    "    Dense(64, activation='relu', input_shape=(X_train.shape[1],)),  # Hidden layer 1\n",
    "    Dense(32, activation='relu'),                                   # Hidden layer 2\n",
    "    Dense(1, activation='sigmoid')                                 # Output layer\n",
    "])"
   ]
  },
  {
   "cell_type": "code",
   "execution_count": 21,
   "id": "12a440ee-d200-46b9-89e4-279a94f87d4c",
   "metadata": {},
   "outputs": [
    {
     "name": "stdout",
     "output_type": "stream",
     "text": [
      "Epoch 1/50\n",
      "12/12 [==============================] - 1s 11ms/step - loss: 0.6527 - accuracy: 0.5962 - val_loss: 0.5053 - val_accuracy: 0.9121\n",
      "Epoch 2/50\n",
      "12/12 [==============================] - 0s 3ms/step - loss: 0.4393 - accuracy: 0.8901 - val_loss: 0.3501 - val_accuracy: 0.9231\n",
      "Epoch 3/50\n",
      "12/12 [==============================] - 0s 3ms/step - loss: 0.2990 - accuracy: 0.9368 - val_loss: 0.2401 - val_accuracy: 0.9451\n",
      "Epoch 4/50\n",
      "12/12 [==============================] - 0s 3ms/step - loss: 0.2062 - accuracy: 0.9505 - val_loss: 0.1762 - val_accuracy: 0.9451\n",
      "Epoch 5/50\n",
      "12/12 [==============================] - 0s 3ms/step - loss: 0.1542 - accuracy: 0.9643 - val_loss: 0.1439 - val_accuracy: 0.9560\n",
      "Epoch 6/50\n",
      "12/12 [==============================] - 0s 3ms/step - loss: 0.1238 - accuracy: 0.9698 - val_loss: 0.1268 - val_accuracy: 0.9560\n",
      "Epoch 7/50\n",
      "12/12 [==============================] - 0s 3ms/step - loss: 0.1036 - accuracy: 0.9725 - val_loss: 0.1159 - val_accuracy: 0.9780\n",
      "Epoch 8/50\n",
      "12/12 [==============================] - 0s 3ms/step - loss: 0.0894 - accuracy: 0.9753 - val_loss: 0.1100 - val_accuracy: 0.9780\n",
      "Epoch 9/50\n",
      "12/12 [==============================] - 0s 3ms/step - loss: 0.0771 - accuracy: 0.9835 - val_loss: 0.1052 - val_accuracy: 0.9780\n",
      "Epoch 10/50\n",
      "12/12 [==============================] - 0s 3ms/step - loss: 0.0689 - accuracy: 0.9835 - val_loss: 0.1027 - val_accuracy: 0.9780\n",
      "Epoch 11/50\n",
      "12/12 [==============================] - 0s 3ms/step - loss: 0.0632 - accuracy: 0.9835 - val_loss: 0.1016 - val_accuracy: 0.9780\n",
      "Epoch 12/50\n",
      "12/12 [==============================] - 0s 3ms/step - loss: 0.0580 - accuracy: 0.9835 - val_loss: 0.1007 - val_accuracy: 0.9670\n",
      "Epoch 13/50\n",
      "12/12 [==============================] - 0s 4ms/step - loss: 0.0536 - accuracy: 0.9835 - val_loss: 0.0997 - val_accuracy: 0.9670\n",
      "Epoch 14/50\n",
      "12/12 [==============================] - 0s 4ms/step - loss: 0.0498 - accuracy: 0.9835 - val_loss: 0.0999 - val_accuracy: 0.9560\n",
      "Epoch 15/50\n",
      "12/12 [==============================] - 0s 4ms/step - loss: 0.0467 - accuracy: 0.9835 - val_loss: 0.1004 - val_accuracy: 0.9560\n",
      "Epoch 16/50\n",
      "12/12 [==============================] - 0s 3ms/step - loss: 0.0440 - accuracy: 0.9863 - val_loss: 0.1004 - val_accuracy: 0.9560\n",
      "Epoch 17/50\n",
      "12/12 [==============================] - 0s 3ms/step - loss: 0.0417 - accuracy: 0.9863 - val_loss: 0.1014 - val_accuracy: 0.9560\n",
      "Epoch 18/50\n",
      "12/12 [==============================] - 0s 3ms/step - loss: 0.0384 - accuracy: 0.9890 - val_loss: 0.1025 - val_accuracy: 0.9670\n",
      "Epoch 19/50\n",
      "12/12 [==============================] - 0s 3ms/step - loss: 0.0357 - accuracy: 0.9890 - val_loss: 0.1017 - val_accuracy: 0.9670\n",
      "Epoch 20/50\n",
      "12/12 [==============================] - 0s 3ms/step - loss: 0.0337 - accuracy: 0.9890 - val_loss: 0.1019 - val_accuracy: 0.9560\n",
      "Epoch 21/50\n",
      "12/12 [==============================] - 0s 3ms/step - loss: 0.0318 - accuracy: 0.9918 - val_loss: 0.1031 - val_accuracy: 0.9560\n",
      "Epoch 22/50\n",
      "12/12 [==============================] - 0s 4ms/step - loss: 0.0297 - accuracy: 0.9890 - val_loss: 0.1034 - val_accuracy: 0.9560\n",
      "Epoch 23/50\n",
      "12/12 [==============================] - 0s 3ms/step - loss: 0.0280 - accuracy: 0.9945 - val_loss: 0.1043 - val_accuracy: 0.9560\n",
      "Epoch 24/50\n",
      "12/12 [==============================] - 0s 4ms/step - loss: 0.0263 - accuracy: 0.9945 - val_loss: 0.1051 - val_accuracy: 0.9560\n",
      "Epoch 25/50\n",
      "12/12 [==============================] - 0s 4ms/step - loss: 0.0246 - accuracy: 0.9945 - val_loss: 0.1051 - val_accuracy: 0.9560\n",
      "Epoch 26/50\n",
      "12/12 [==============================] - 0s 3ms/step - loss: 0.0229 - accuracy: 0.9945 - val_loss: 0.1034 - val_accuracy: 0.9560\n",
      "Epoch 27/50\n",
      "12/12 [==============================] - 0s 3ms/step - loss: 0.0234 - accuracy: 0.9918 - val_loss: 0.1075 - val_accuracy: 0.9560\n",
      "Epoch 28/50\n",
      "12/12 [==============================] - 0s 3ms/step - loss: 0.0208 - accuracy: 0.9945 - val_loss: 0.1078 - val_accuracy: 0.9560\n",
      "Epoch 29/50\n",
      "12/12 [==============================] - 0s 3ms/step - loss: 0.0187 - accuracy: 0.9973 - val_loss: 0.1103 - val_accuracy: 0.9560\n",
      "Epoch 30/50\n",
      "12/12 [==============================] - 0s 3ms/step - loss: 0.0177 - accuracy: 0.9973 - val_loss: 0.1084 - val_accuracy: 0.9560\n",
      "Epoch 31/50\n",
      "12/12 [==============================] - 0s 3ms/step - loss: 0.0168 - accuracy: 0.9973 - val_loss: 0.1096 - val_accuracy: 0.9560\n",
      "Epoch 32/50\n",
      "12/12 [==============================] - 0s 3ms/step - loss: 0.0153 - accuracy: 0.9973 - val_loss: 0.1086 - val_accuracy: 0.9560\n",
      "Epoch 33/50\n",
      "12/12 [==============================] - 0s 3ms/step - loss: 0.0142 - accuracy: 0.9973 - val_loss: 0.1088 - val_accuracy: 0.9560\n",
      "Epoch 34/50\n",
      "12/12 [==============================] - 0s 3ms/step - loss: 0.0134 - accuracy: 0.9973 - val_loss: 0.1083 - val_accuracy: 0.9560\n",
      "Epoch 35/50\n",
      "12/12 [==============================] - 0s 4ms/step - loss: 0.0126 - accuracy: 0.9973 - val_loss: 0.1074 - val_accuracy: 0.9560\n",
      "Epoch 36/50\n",
      "12/12 [==============================] - 0s 4ms/step - loss: 0.0116 - accuracy: 0.9973 - val_loss: 0.1089 - val_accuracy: 0.9560\n",
      "Epoch 37/50\n",
      "12/12 [==============================] - 0s 4ms/step - loss: 0.0111 - accuracy: 0.9973 - val_loss: 0.1101 - val_accuracy: 0.9560\n",
      "Epoch 38/50\n",
      "12/12 [==============================] - 0s 4ms/step - loss: 0.0100 - accuracy: 1.0000 - val_loss: 0.1134 - val_accuracy: 0.9560\n",
      "Epoch 39/50\n",
      "12/12 [==============================] - 0s 3ms/step - loss: 0.0098 - accuracy: 1.0000 - val_loss: 0.1122 - val_accuracy: 0.9560\n",
      "Epoch 40/50\n",
      "12/12 [==============================] - 0s 4ms/step - loss: 0.0091 - accuracy: 1.0000 - val_loss: 0.1107 - val_accuracy: 0.9560\n",
      "Epoch 41/50\n",
      "12/12 [==============================] - 0s 4ms/step - loss: 0.0083 - accuracy: 1.0000 - val_loss: 0.1091 - val_accuracy: 0.9560\n",
      "Epoch 42/50\n",
      "12/12 [==============================] - 0s 4ms/step - loss: 0.0078 - accuracy: 1.0000 - val_loss: 0.1119 - val_accuracy: 0.9560\n",
      "Epoch 43/50\n",
      "12/12 [==============================] - 0s 3ms/step - loss: 0.0075 - accuracy: 1.0000 - val_loss: 0.1101 - val_accuracy: 0.9560\n",
      "Epoch 44/50\n",
      "12/12 [==============================] - 0s 3ms/step - loss: 0.0070 - accuracy: 1.0000 - val_loss: 0.1095 - val_accuracy: 0.9560\n",
      "Epoch 45/50\n",
      "12/12 [==============================] - 0s 3ms/step - loss: 0.0067 - accuracy: 1.0000 - val_loss: 0.1105 - val_accuracy: 0.9560\n",
      "Epoch 46/50\n",
      "12/12 [==============================] - 0s 4ms/step - loss: 0.0060 - accuracy: 1.0000 - val_loss: 0.1103 - val_accuracy: 0.9560\n",
      "Epoch 47/50\n",
      "12/12 [==============================] - 0s 4ms/step - loss: 0.0058 - accuracy: 1.0000 - val_loss: 0.1085 - val_accuracy: 0.9560\n",
      "Epoch 48/50\n",
      "12/12 [==============================] - 0s 4ms/step - loss: 0.0056 - accuracy: 1.0000 - val_loss: 0.1095 - val_accuracy: 0.9560\n",
      "Epoch 49/50\n",
      "12/12 [==============================] - 0s 4ms/step - loss: 0.0052 - accuracy: 1.0000 - val_loss: 0.1110 - val_accuracy: 0.9560\n",
      "Epoch 50/50\n",
      "12/12 [==============================] - 0s 3ms/step - loss: 0.0049 - accuracy: 1.0000 - val_loss: 0.1102 - val_accuracy: 0.9560\n",
      "4/4 [==============================] - 0s 1ms/step - loss: 0.0806 - accuracy: 0.9737\n",
      "Test Accuracy: 0.97\n",
      "4/4 [==============================] - 0s 1ms/step\n",
      "              precision    recall  f1-score   support\n",
      "\n",
      "           0       0.98      0.95      0.96        43\n",
      "           1       0.97      0.99      0.98        71\n",
      "\n",
      "    accuracy                           0.97       114\n",
      "   macro avg       0.97      0.97      0.97       114\n",
      "weighted avg       0.97      0.97      0.97       114\n",
      "\n"
     ]
    }
   ],
   "source": [
    "# Compile the model\n",
    "model.compile(optimizer='adam', loss='binary_crossentropy', metrics=['accuracy'])\n",
    "\n",
    "# Train the model\n",
    "history = model.fit(X_train, y_train, epochs=50, batch_size=32, validation_split=0.2, verbose=1)\n",
    "\n",
    "loss, accuracy = model.evaluate(X_test, y_test, verbose=1)\n",
    "print(f\"Test Accuracy: {accuracy:.2f}\")\n",
    "\n",
    "# Generate classification report\n",
    "y_pred = (model.predict(X_test) > 0.5).astype(\"int32\")\n",
    "print(classification_report(y_test, y_pred))\n"
   ]
  },
  {
   "cell_type": "code",
   "execution_count": 22,
   "id": "b056aee0-90fb-4aae-bb76-d4691b884f6c",
   "metadata": {},
   "outputs": [
    {
     "data": {
      "image/png": "[encoded data removed]",
      "text/plain": [
       "<Figure size 1000x500 with 1 Axes>"
      ]
     },
     "metadata": {},
     "output_type": "display_data"
    }
   ],
   "source": [
    "\n",
    "# Visualize training history\n",
    "plt.figure(figsize=(10, 5))\n",
    "plt.plot(history.history['accuracy'], label='Train Accuracy', marker='o')\n",
    "plt.plot(history.history['val_accuracy'], label='Validation Accuracy', marker='o')\n",
    "plt.title('Model Accuracy')\n",
    "plt.xlabel('Epochs')\n",
    "plt.ylabel('Accuracy')\n",
    "plt.legend()\n",
    "plt.show()"
   ]
  },
  {
   "cell_type": "code",
   "execution_count": null,
   "id": "27b99c3b-8a1c-4573-b6a7-183a16079296",
   "metadata": {},
   "outputs": [],
   "source": []
  }
 ],
 "metadata": {
  "kernelspec": {
   "display_name": "Python 3 (ipykernel)",
   "language": "python",
   "name": "python3"
  },
  "language_info": {
   "codemirror_mode": {
    "name": "ipython",
    "version": 3
   },
   "file_extension": ".py",
   "mimetype": "text/x-python",
   "name": "python",
   "nbconvert_exporter": "python",
   "pygments_lexer": "ipython3",
   "version": "3.11.2"
  }
 },
 "nbformat": 4,
 "nbformat_minor": 5
}
