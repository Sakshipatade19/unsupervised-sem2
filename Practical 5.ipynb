{
 "cells": [
  {
   "cell_type": "code",
   "execution_count": 1,
   "id": "cd0773a4-31fe-4ed3-90ba-714bd37d4add",
   "metadata": {},
   "outputs": [
    {
     "name": "stdout",
     "output_type": "stream",
     "text": [
      "First input with target = 1\n",
      "New wt= [ 1  1  1 -1  1 -1  1  1  1]\n",
      "Bias value=  1\n",
      "**********************************\n",
      "second input with target = -1\n",
      "New wt= [ 0  0  0 -2  2 -2  0  0  0]\n",
      "Bias value=  0\n"
     ]
    }
   ],
   "source": [
    "#Write a program to implement Hebb’s rule.\n",
    "import numpy as np\n",
    "x1 = np.array([1 , 1 ,1 ,-1 ,1 ,-1 ,1,1,1])\n",
    "x2 = np.array([1 ,1 ,1 ,1 ,-1 ,1 ,1 ,1 ,1])\n",
    "b = 0\n",
    "\n",
    "y = np.array([1, -1])\n",
    "wtold = np.zeros((9,)).astype(int) # [ 00 00000000\n",
    "wtnew = np.zeros((9,)).astype(int)\n",
    "\n",
    "\n",
    "print(\"First input with target = 1\")\n",
    "for i in range(0, 9):\n",
    "    wtnew[i] = wtold[i] + x1[i] * y[0]\n",
    "wtold = wtnew\n",
    "b = b + y[0]\n",
    "print(\"New wt=\", wtnew)\n",
    "print(\"Bias value= \", b)\n",
    "\n",
    "print(\"**********************************\")\n",
    "\n",
    "print(\"second input with target = -1\")\n",
    "for i in range(0, 9):\n",
    "    wtnew[i] = wtold[i] + x2[i] * y[1]\n",
    "wtold = wtnew\n",
    "b = b + y[1]\n",
    "print(\"New wt=\", wtnew)\n",
    "print(\"Bias value= \", b)"
   ]
  },
  {
   "cell_type": "code",
   "execution_count": null,
   "id": "7a25ab4b-c95d-4b5b-aac3-3c92c708aea4",
   "metadata": {},
   "outputs": [],
   "source": [
    "\n"
   ]
  },
  {
   "cell_type": "code",
   "execution_count": null,
   "id": "b7f952f5-147f-431d-b01d-8c393c143cf6",
   "metadata": {},
   "outputs": [],
   "source": []
  },
  {
   "cell_type": "code",
   "execution_count": null,
   "id": "8af15c99-3662-4f14-b080-19da50a1b0ef",
   "metadata": {},
   "outputs": [],
   "source": []
  }
 ],
 "metadata": {
  "kernelspec": {
   "display_name": "Python 3 (ipykernel)",
   "language": "python",
   "name": "python3"
  },
  "language_info": {
   "codemirror_mode": {
    "name": "ipython",
    "version": 3
   },
   "file_extension": ".py",
   "mimetype": "text/x-python",
   "name": "python",
   "nbconvert_exporter": "python",
   "pygments_lexer": "ipython3",
   "version": "3.11.7"
  }
 },
 "nbformat": 4,
 "nbformat_minor": 5
}
