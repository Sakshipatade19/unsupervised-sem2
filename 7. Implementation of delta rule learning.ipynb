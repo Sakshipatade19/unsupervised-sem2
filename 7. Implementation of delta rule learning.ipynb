{
 "cells": [
  {
   "cell_type": "code",
   "execution_count": 1,
   "id": "d4aa8293-d37a-40f2-a886-85de345465a0",
   "metadata": {},
   "outputs": [],
   "source": [
    "import numpy as np\n",
    "\n",
    "X= np.array([[1,2],[2,3],[3,4]])\n",
    "t=np.array([0,1,0])\n",
    "weights = np.random.rand(2)\n",
    "eta = 0.1"
   ]
  },
  {
   "cell_type": "code",
   "execution_count": 2,
   "id": "9a3724fc-54ed-40b5-9f91-3299c12136c2",
   "metadata": {},
   "outputs": [
    {
     "data": {
      "text/plain": [
       "array([0.78032226, 0.91701747])"
      ]
     },
     "execution_count": 2,
     "metadata": {},
     "output_type": "execute_result"
    }
   ],
   "source": [
    "weights"
   ]
  },
  {
   "cell_type": "code",
   "execution_count": 3,
   "id": "84a74817-8a46-4f6c-9a68-336f39d8c693",
   "metadata": {},
   "outputs": [
    {
     "name": "stdout",
     "output_type": "stream",
     "text": [
      "Final weights :  [-3.39251939  2.10622796]\n"
     ]
    }
   ],
   "source": [
    "def activation(x):\n",
    "    return x\n",
    "\n",
    "for i in range(100):\n",
    "    total_error=0\n",
    "    \n",
    "    for i in range(len(X)):\n",
    "        xi=X[i]\n",
    "        target = t[i]\n",
    "        y=activation(np.dot(weights ,xi))\n",
    "        error = target -y\n",
    "        total_error = total_error +error**2\n",
    "        weights = weights +eta * error * xi\n",
    "        \n",
    "    if total_error < 0.01:\n",
    "        break\n",
    "\n",
    "print(\"Final weights : \" ,weights)\n",
    "        "
   ]
  },
  {
   "cell_type": "code",
   "execution_count": null,
   "id": "1ff1ed90-ecb7-4559-be07-fe8d7d1d25c6",
   "metadata": {},
   "outputs": [],
   "source": []
  }
 ],
 "metadata": {
  "kernelspec": {
   "display_name": "Python 3 (ipykernel)",
   "language": "python",
   "name": "python3"
  },
  "language_info": {
   "codemirror_mode": {
    "name": "ipython",
    "version": 3
   },
   "file_extension": ".py",
   "mimetype": "text/x-python",
   "name": "python",
   "nbconvert_exporter": "python",
   "pygments_lexer": "ipython3",
   "version": "3.11.2"
  }
 },
 "nbformat": 4,
 "nbformat_minor": 5
}
