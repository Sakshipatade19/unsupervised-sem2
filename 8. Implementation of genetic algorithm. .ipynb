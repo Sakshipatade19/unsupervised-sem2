{
 "cells": [
  {
   "cell_type": "code",
   "execution_count": 11,
   "id": "8182dcab-2ffd-4c08-b7b5-48b86994f02b",
   "metadata": {
    "executionInfo": {
     "elapsed": 576,
     "status": "ok",
     "timestamp": 1738294468559,
     "user": {
      "displayName": "Uday Singh",
      "userId": "02796870780303216464"
     },
     "user_tz": -330
    },
    "id": "8182dcab-2ffd-4c08-b7b5-48b86994f02b"
   },
   "outputs": [],
   "source": [
    "import random\n",
    "\n",
    "def genetic_algorithm(chromo_len, pop_size, generations, mutation_rate):\n",
    "    population = [''.join(random.choice('01') for _ in range(chromo_len)) for _ in range(pop_size)]\n",
    "\n",
    "    for gen in range(generations):\n",
    "        fitnesses = [chromosome.count('1') for chromosome in population]\n",
    "        best = max(zip(population, fitnesses), key=lambda x: x[1])\n",
    "        print(f\"Gen {gen + 1}: Best = {best[0]}, Fitness = {best[1]}\")\n",
    "\n",
    "        if best[1] == chromo_len: break  # Stop if optimal solution is found\n",
    "        next_gen = []\n",
    "        while len(next_gen) < pop_size:\n",
    "            parents = random.choices(population, weights=fitnesses, k=2)\n",
    "            point = random.randint(1, chromo_len - 1)\n",
    "            child1 = parents[0][:point] + parents[1][point:]\n",
    "            child2 = parents[1][:point] + parents[0][point:]\n",
    "            next_gen.extend([\n",
    "                ''.join(bit if random.random() >= mutation_rate else '1' if bit == '0' else '0' for bit in child1),\n",
    "                ''.join(bit if random.random() >= mutation_rate else '1' if bit == '0' else '0' for bit in child2)\n",
    "            ])\n",
    "        population = next_gen[:pop_size]\n",
    "\n",
    "    return best\n",
    "\n"
   ]
  },
  {
   "cell_type": "code",
   "execution_count": 12,
   "id": "H4h0DXPNOaHY",
   "metadata": {
    "colab": {
     "base_uri": "https://localhost:8080/"
    },
    "executionInfo": {
     "elapsed": 11746,
     "status": "ok",
     "timestamp": 1738294571460,
     "user": {
      "displayName": "Uday Singh",
      "userId": "02796870780303216464"
     },
     "user_tz": -330
    },
    "id": "H4h0DXPNOaHY",
    "outputId": "bf2ee83a-d2b6-461a-eb1d-8b5f59800fe9"
   },
   "outputs": [
    {
     "name": "stdin",
     "output_type": "stream",
     "text": [
      "Binary string length:  5\n",
      "Population size:  20\n",
      "Number of generations:  50\n",
      "Mutation rate (0.0-1.0):  0.01\n"
     ]
    },
    {
     "name": "stdout",
     "output_type": "stream",
     "text": [
      "Gen 1: Best = 11011, Fitness = 4\n",
      "Gen 2: Best = 01111, Fitness = 4\n",
      "Gen 3: Best = 01111, Fitness = 4\n",
      "Gen 4: Best = 11011, Fitness = 4\n",
      "Gen 5: Best = 10111, Fitness = 4\n",
      "Gen 6: Best = 11111, Fitness = 5\n",
      "\n",
      "Optimal Solution: 11111, Fitness: 5\n"
     ]
    }
   ],
   "source": [
    "# User input and execution\n",
    "chromo_len = int(input(\"Binary string length: \"))\n",
    "pop_size = int(input(\"Population size: \"))\n",
    "generations = int(input(\"Number of generations: \"))\n",
    "mutation_rate = float(input(\"Mutation rate (0.0-1.0): \"))\n",
    "best = genetic_algorithm(chromo_len, pop_size, generations, mutation_rate)\n",
    "print(f\"\\nOptimal Solution: {best[0]}, Fitness: {best[1]}\")\n"
   ]
  },
  {
   "cell_type": "code",
   "execution_count": 5,
   "id": "291df4bf-6b4f-4971-9e29-ed77b474f4da",
   "metadata": {
    "id": "291df4bf-6b4f-4971-9e29-ed77b474f4da"
   },
   "outputs": [
    {
     "name": "stdin",
     "output_type": "stream",
     "text": [
      "Binary string length:  5\n",
      "Population size:  100\n",
      "Number of generations:  100\n",
      "Mutation rate (0.0-1.0):  0.6\n"
     ]
    },
    {
     "name": "stdout",
     "output_type": "stream",
     "text": [
      "Gen 1: Best = 11111, Fitness = 5\n",
      "\n",
      "Optimal Solution: 11111, Fitness: 5\n"
     ]
    }
   ],
   "source": [
    "import random  # Importing the random module to generate random values for selection, mutation, and crossover\n",
    "\n",
    "def genetic_algorithm(chromo_len, pop_size, generations, mutation_rate):\n",
    "    # Step 1: Initial population generation\n",
    "    # A population of binary strings of length 'chromo_len' is created.\n",
    "    population = [''.join(random.choice('01') for _ in range(chromo_len)) for _ in range(pop_size)]\n",
    "\n",
    "    # Step 2: Evolution process (loop for generations)\n",
    "    for gen in range(generations):\n",
    "        # Calculate the fitness of each individual in the population.\n",
    "        # The fitness here is simply the count of '1's in the binary string.\n",
    "        fitnesses = [chromosome.count('1') for chromosome in population]\n",
    "\n",
    "        # Find the best individual (with the maximum fitness score).\n",
    "        best = max(zip(population, fitnesses), key=lambda x: x[1])\n",
    "\n",
    "        # Print the best individual and its fitness for the current generation.\n",
    "        print(f\"Gen {gen + 1}: Best = {best[0]}, Fitness = {best[1]}\")\n",
    "\n",
    "        # If the best individual has a fitness equal to the chromo_len (i.e., all '1's), stop.\n",
    "        if best[1] == chromo_len:\n",
    "            break  # Stop if optimal solution is found\n",
    "\n",
    "        # Step 3: Create the next generation\n",
    "        next_gen = []  # List to hold the next generation of chromosomes\n",
    "        while len(next_gen) < pop_size:\n",
    "            # Select two parents based on their fitness. Parents with higher fitness have a higher chance of being selected.\n",
    "            parents = random.choices(population, weights=fitnesses, k=2)\n",
    "\n",
    "            # Perform crossover at a random point between the two parents.\n",
    "            point = random.randint(1, chromo_len - 1)\n",
    "            child1 = parents[0][:point] + parents[1][point:]\n",
    "            child2 = parents[1][:point] + parents[0][point:]\n",
    "\n",
    "            # Step 4: Mutation - randomly flip bits in the child chromosomes.\n",
    "            # For each bit in both children, flip the bit with a probability equal to 'mutation_rate'.\n",
    "            next_gen.extend([\n",
    "                ''.join(bit if random.random() >= mutation_rate else '1' if bit == '0' else '0' for bit in child1),\n",
    "                ''.join(bit if random.random() >= mutation_rate else '1' if bit == '0' else '0' for bit in child2)\n",
    "            ])\n",
    "\n",
    "        # Update the population to the new generation (truncate to the original population size).\n",
    "        population = next_gen[:pop_size]\n",
    "\n",
    "    # Return the best individual from the final generation.\n",
    "    return best\n",
    "\n",
    "# User input for binary string length, population size, number of generations, and mutation rate\n",
    "chromo_len = int(input(\"Binary string length: \"))\n",
    "pop_size = int(input(\"Population size: \"))\n",
    "generations = int(input(\"Number of generations: \"))\n",
    "mutation_rate = float(input(\"Mutation rate (0.0-1.0): \"))\n",
    "\n",
    "# Execute the genetic algorithm and store the result\n",
    "best = genetic_algorithm(chromo_len, pop_size, generations, mutation_rate)\n",
    "\n",
    "# Print the final optimal solution (the best individual) and its fitness.\n",
    "print(f\"\\nOptimal Solution: {best[0]}, Fitness: {best[1]}\")"
   ]
  },
  {
   "cell_type": "code",
   "execution_count": null,
   "id": "76059a4c-b842-4542-9833-afe4cbf3c107",
   "metadata": {
    "id": "76059a4c-b842-4542-9833-afe4cbf3c107"
   },
   "outputs": [],
   "source": []
  },
  {
   "cell_type": "code",
   "execution_count": null,
   "id": "e9837718-f243-47e3-9a48-9f7ca7e22f6d",
   "metadata": {
    "id": "e9837718-f243-47e3-9a48-9f7ca7e22f6d"
   },
   "outputs": [],
   "source": []
  },
  {
   "cell_type": "code",
   "execution_count": null,
   "id": "e44e256d-c218-4a68-9bf4-666890bf68e2",
   "metadata": {
    "id": "e44e256d-c218-4a68-9bf4-666890bf68e2"
   },
   "outputs": [],
   "source": []
  },
  {
   "cell_type": "code",
   "execution_count": null,
   "id": "b946c26a-1a64-43f7-aed5-18bf4d04c114",
   "metadata": {
    "id": "b946c26a-1a64-43f7-aed5-18bf4d04c114"
   },
   "outputs": [],
   "source": []
  }
 ],
 "metadata": {
  "colab": {
   "provenance": []
  },
  "kernelspec": {
   "display_name": "Python 3 (ipykernel)",
   "language": "python",
   "name": "python3"
  },
  "language_info": {
   "codemirror_mode": {
    "name": "ipython",
    "version": 3
   },
   "file_extension": ".py",
   "mimetype": "text/x-python",
   "name": "python",
   "nbconvert_exporter": "python",
   "pygments_lexer": "ipython3",
   "version": "3.11.2"
  }
 },
 "nbformat": 4,
 "nbformat_minor": 5
}
