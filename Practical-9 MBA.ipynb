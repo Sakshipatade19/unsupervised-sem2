{
 "cells": [
  {
   "cell_type": "code",
   "execution_count": 1,
   "metadata": {
    "colab": {
     "base_uri": "https://localhost:8080/"
    },
    "collapsed": true,
    "executionInfo": {
     "elapsed": 4221,
     "status": "ok",
     "timestamp": 1737614706006,
     "user": {
      "displayName": "hariom sharma",
      "userId": "14280852939699748120"
     },
     "user_tz": -330
    },
    "id": "BBw5nR1c2D2_",
    "jupyter": {
     "outputs_hidden": true
    },
    "outputId": "0c9b58ed-c152-4f75-b0d1-0c2628a78e80"
   },
   "outputs": [
    {
     "name": "stdout",
     "output_type": "stream",
     "text": [
      "Collecting mlxtend==0.23.1\n",
      "  Downloading mlxtend-0.23.1-py3-none-any.whl.metadata (7.3 kB)\n",
      "Requirement already satisfied: scipy>=1.2.1 in c:\\users\\uday8\\appdata\\local\\programs\\python\\python311\\lib\\site-packages (from mlxtend==0.23.1) (1.13.1)\n",
      "Requirement already satisfied: numpy>=1.16.2 in c:\\users\\uday8\\appdata\\local\\programs\\python\\python311\\lib\\site-packages (from mlxtend==0.23.1) (1.26.4)\n",
      "Requirement already satisfied: pandas>=0.24.2 in c:\\users\\uday8\\appdata\\local\\programs\\python\\python311\\lib\\site-packages (from mlxtend==0.23.1) (2.2.2)\n",
      "Requirement already satisfied: scikit-learn>=1.0.2 in c:\\users\\uday8\\appdata\\local\\programs\\python\\python311\\lib\\site-packages (from mlxtend==0.23.1) (1.2.1)\n",
      "Requirement already satisfied: matplotlib>=3.0.0 in c:\\users\\uday8\\appdata\\local\\programs\\python\\python311\\lib\\site-packages (from mlxtend==0.23.1) (3.10.0)\n",
      "Requirement already satisfied: joblib>=0.13.2 in c:\\users\\uday8\\appdata\\local\\programs\\python\\python311\\lib\\site-packages (from mlxtend==0.23.1) (1.4.2)\n",
      "Requirement already satisfied: contourpy>=1.0.1 in c:\\users\\uday8\\appdata\\local\\programs\\python\\python311\\lib\\site-packages (from matplotlib>=3.0.0->mlxtend==0.23.1) (1.2.1)\n",
      "Requirement already satisfied: cycler>=0.10 in c:\\users\\uday8\\appdata\\local\\programs\\python\\python311\\lib\\site-packages (from matplotlib>=3.0.0->mlxtend==0.23.1) (0.12.1)\n",
      "Requirement already satisfied: fonttools>=4.22.0 in c:\\users\\uday8\\appdata\\local\\programs\\python\\python311\\lib\\site-packages (from matplotlib>=3.0.0->mlxtend==0.23.1) (4.53.0)\n",
      "Requirement already satisfied: kiwisolver>=1.3.1 in c:\\users\\uday8\\appdata\\local\\programs\\python\\python311\\lib\\site-packages (from matplotlib>=3.0.0->mlxtend==0.23.1) (1.4.5)\n",
      "Requirement already satisfied: packaging>=20.0 in c:\\users\\uday8\\appdata\\local\\programs\\python\\python311\\lib\\site-packages (from matplotlib>=3.0.0->mlxtend==0.23.1) (24.2)\n",
      "Requirement already satisfied: pillow>=8 in c:\\users\\uday8\\appdata\\local\\programs\\python\\python311\\lib\\site-packages (from matplotlib>=3.0.0->mlxtend==0.23.1) (10.4.0)\n",
      "Requirement already satisfied: pyparsing>=2.3.1 in c:\\users\\uday8\\appdata\\local\\programs\\python\\python311\\lib\\site-packages (from matplotlib>=3.0.0->mlxtend==0.23.1) (3.1.2)\n",
      "Requirement already satisfied: python-dateutil>=2.7 in c:\\users\\uday8\\appdata\\local\\programs\\python\\python311\\lib\\site-packages (from matplotlib>=3.0.0->mlxtend==0.23.1) (2.9.0.post0)\n",
      "Requirement already satisfied: pytz>=2020.1 in c:\\users\\uday8\\appdata\\local\\programs\\python\\python311\\lib\\site-packages (from pandas>=0.24.2->mlxtend==0.23.1) (2024.1)\n",
      "Requirement already satisfied: tzdata>=2022.7 in c:\\users\\uday8\\appdata\\local\\programs\\python\\python311\\lib\\site-packages (from pandas>=0.24.2->mlxtend==0.23.1) (2024.1)\n",
      "Requirement already satisfied: threadpoolctl>=2.0.0 in c:\\users\\uday8\\appdata\\local\\programs\\python\\python311\\lib\\site-packages (from scikit-learn>=1.0.2->mlxtend==0.23.1) (3.5.0)\n",
      "Requirement already satisfied: six>=1.5 in c:\\users\\uday8\\appdata\\local\\programs\\python\\python311\\lib\\site-packages (from python-dateutil>=2.7->matplotlib>=3.0.0->mlxtend==0.23.1) (1.17.0)\n",
      "Downloading mlxtend-0.23.1-py3-none-any.whl (1.4 MB)\n",
      "   ---------------------------------------- 0.0/1.4 MB ? eta -:--:--\n",
      "   ------- -------------------------------- 0.3/1.4 MB ? eta -:--:--\n",
      "   ---------------------------- ----------- 1.0/1.4 MB 3.3 MB/s eta 0:00:01\n",
      "   ---------------------------------------- 1.4/1.4 MB 3.8 MB/s eta 0:00:00\n",
      "Installing collected packages: mlxtend\n",
      "Successfully installed mlxtend-0.23.1\n"
     ]
    }
   ],
   "source": [
    "!pip install mlxtend==0.23.1"
   ]
  },
  {
   "cell_type": "code",
   "execution_count": 19,
   "metadata": {
    "colab": {
     "base_uri": "https://localhost:8080/"
    },
    "executionInfo": {
     "elapsed": 759,
     "status": "ok",
     "timestamp": 1737616201367,
     "user": {
      "displayName": "hariom sharma",
      "userId": "14280852939699748120"
     },
     "user_tz": -330
    },
    "id": "BJP4yJ7N1yBX",
    "outputId": "09d97e39-7ca6-4091-f800-4566b1c1c062"
   },
   "outputs": [],
   "source": [
    "import pandas as pd\n",
    "from mlxtend.preprocessing import TransactionEncoder\n",
    "from mlxtend.frequent_patterns import apriori, association_rules"
   ]
  },
  {
   "cell_type": "markdown",
   "metadata": {
    "id": "PShFOmiy7eXK"
   },
   "source": [
    "### Creating a Customize dataset"
   ]
  },
  {
   "cell_type": "code",
   "execution_count": 25,
   "metadata": {
    "colab": {
     "base_uri": "https://localhost:8080/"
    },
    "executionInfo": {
     "elapsed": 522,
     "status": "ok",
     "timestamp": 1737615536029,
     "user": {
      "displayName": "hariom sharma",
      "userId": "14280852939699748120"
     },
     "user_tz": -330
    },
    "id": "lF14JyzP5-Qz",
    "outputId": "2e767ceb-e00b-4fb6-d4ec-579c367fcfba"
   },
   "outputs": [
    {
     "data": {
      "text/plain": [
       "[['milk', 'onion', 'nutmeg', 'kidney beans', 'eggs', 'yogurt'],\n",
       " ['chips', 'bananas', 'nutmeg', 'eggs', 'curd', 'red bull'],\n",
       " ['pani puri', 'chips', 'maggie', 'eggs', 'peanuts', 'onion'],\n",
       " ['chicken', 'fish', 'bread', 'banana'],\n",
       " ['chicken', 'milk', 'yogurt', 'bread', 'chips'],\n",
       " ['rice', 'apple', 'chips']]"
      ]
     },
     "execution_count": 25,
     "metadata": {},
     "output_type": "execute_result"
    }
   ],
   "source": [
    "data = [['milk', 'onion', 'nutmeg', 'kidney beans', 'eggs', 'yogurt'],\n",
    "        ['chips', 'bananas', 'nutmeg', 'eggs', 'curd', 'red bull'],\n",
    "        ['pani puri', 'chips', 'maggie', 'eggs', 'peanuts', 'onion'],\n",
    "        ['chicken', 'fish', 'bread','banana'],\n",
    "        ['chicken', 'milk', 'yogurt', 'bread', 'chips'],\n",
    "        ['rice', 'apple', 'chips']]\n",
    "data"
   ]
  },
  {
   "cell_type": "markdown",
   "metadata": {
    "id": "VfmS2vr79hYI"
   },
   "source": [
    "NaN=Null can have value 0 but None is nothing"
   ]
  },
  {
   "cell_type": "code",
   "execution_count": 26,
   "metadata": {
    "colab": {
     "base_uri": "https://localhost:8080/"
    },
    "executionInfo": {
     "elapsed": 504,
     "status": "ok",
     "timestamp": 1737615718594,
     "user": {
      "displayName": "hariom sharma",
      "userId": "14280852939699748120"
     },
     "user_tz": -330
    },
    "id": "slpIvbCz9R2v",
    "outputId": "dc6ea320-9aa9-4994-d6e3-b05b43820080"
   },
   "outputs": [],
   "source": [
    "te = TransactionEncoder()"
   ]
  },
  {
   "cell_type": "code",
   "execution_count": 27,
   "metadata": {
    "colab": {
     "base_uri": "https://localhost:8080/"
    },
    "executionInfo": {
     "elapsed": 4,
     "status": "ok",
     "timestamp": 1737615881171,
     "user": {
      "displayName": "hariom sharma",
      "userId": "14280852939699748120"
     },
     "user_tz": -330
    },
    "id": "gnhabqtR97PP",
    "outputId": "934b1e64-f199-4ce2-d709-a54da7970a78"
   },
   "outputs": [
    {
     "data": {
      "text/plain": [
       "array([[False, False, False, False, False, False, False,  True, False,\n",
       "         True, False,  True,  True,  True, False, False, False, False,\n",
       "         True],\n",
       "       [False, False,  True, False, False,  True,  True,  True, False,\n",
       "        False, False, False,  True, False, False, False,  True, False,\n",
       "        False],\n",
       "       [False, False, False, False, False,  True, False,  True, False,\n",
       "        False,  True, False, False,  True,  True,  True, False, False,\n",
       "        False],\n",
       "       [False,  True, False,  True,  True, False, False, False,  True,\n",
       "        False, False, False, False, False, False, False, False, False,\n",
       "        False],\n",
       "       [False, False, False,  True,  True,  True, False, False, False,\n",
       "        False, False,  True, False, False, False, False, False, False,\n",
       "         True],\n",
       "       [ True, False, False, False, False,  True, False, False, False,\n",
       "        False, False, False, False, False, False, False, False,  True,\n",
       "        False]])"
      ]
     },
     "execution_count": 27,
     "metadata": {},
     "output_type": "execute_result"
    }
   ],
   "source": [
    "te_array = te.fit(data).transform(data)\n",
    "te_array"
   ]
  },
  {
   "cell_type": "code",
   "execution_count": 28,
   "metadata": {
    "colab": {
     "base_uri": "https://localhost:8080/",
     "height": 261
    },
    "executionInfo": {
     "elapsed": 4,
     "status": "ok",
     "timestamp": 1737615952112,
     "user": {
      "displayName": "hariom sharma",
      "userId": "14280852939699748120"
     },
     "user_tz": -330
    },
    "id": "o28iWeQi9Gdo",
    "outputId": "5a5147a8-89b0-4d38-f02a-bc7a463c46c2"
   },
   "outputs": [
    {
     "data": {
      "text/html": [
       "<div>\n",
       "<style scoped>\n",
       "    .dataframe tbody tr th:only-of-type {\n",
       "        vertical-align: middle;\n",
       "    }\n",
       "\n",
       "    .dataframe tbody tr th {\n",
       "        vertical-align: top;\n",
       "    }\n",
       "\n",
       "    .dataframe thead th {\n",
       "        text-align: right;\n",
       "    }\n",
       "</style>\n",
       "<table border=\"1\" class=\"dataframe\">\n",
       "  <thead>\n",
       "    <tr style=\"text-align: right;\">\n",
       "      <th></th>\n",
       "      <th>apple</th>\n",
       "      <th>banana</th>\n",
       "      <th>bananas</th>\n",
       "      <th>bread</th>\n",
       "      <th>chicken</th>\n",
       "      <th>chips</th>\n",
       "      <th>curd</th>\n",
       "      <th>eggs</th>\n",
       "      <th>fish</th>\n",
       "      <th>kidney beans</th>\n",
       "      <th>maggie</th>\n",
       "      <th>milk</th>\n",
       "      <th>nutmeg</th>\n",
       "      <th>onion</th>\n",
       "      <th>pani puri</th>\n",
       "      <th>peanuts</th>\n",
       "      <th>red bull</th>\n",
       "      <th>rice</th>\n",
       "      <th>yogurt</th>\n",
       "    </tr>\n",
       "  </thead>\n",
       "  <tbody>\n",
       "    <tr>\n",
       "      <th>0</th>\n",
       "      <td>False</td>\n",
       "      <td>False</td>\n",
       "      <td>False</td>\n",
       "      <td>False</td>\n",
       "      <td>False</td>\n",
       "      <td>False</td>\n",
       "      <td>False</td>\n",
       "      <td>True</td>\n",
       "      <td>False</td>\n",
       "      <td>True</td>\n",
       "      <td>False</td>\n",
       "      <td>True</td>\n",
       "      <td>True</td>\n",
       "      <td>True</td>\n",
       "      <td>False</td>\n",
       "      <td>False</td>\n",
       "      <td>False</td>\n",
       "      <td>False</td>\n",
       "      <td>True</td>\n",
       "    </tr>\n",
       "    <tr>\n",
       "      <th>1</th>\n",
       "      <td>False</td>\n",
       "      <td>False</td>\n",
       "      <td>True</td>\n",
       "      <td>False</td>\n",
       "      <td>False</td>\n",
       "      <td>True</td>\n",
       "      <td>True</td>\n",
       "      <td>True</td>\n",
       "      <td>False</td>\n",
       "      <td>False</td>\n",
       "      <td>False</td>\n",
       "      <td>False</td>\n",
       "      <td>True</td>\n",
       "      <td>False</td>\n",
       "      <td>False</td>\n",
       "      <td>False</td>\n",
       "      <td>True</td>\n",
       "      <td>False</td>\n",
       "      <td>False</td>\n",
       "    </tr>\n",
       "    <tr>\n",
       "      <th>2</th>\n",
       "      <td>False</td>\n",
       "      <td>False</td>\n",
       "      <td>False</td>\n",
       "      <td>False</td>\n",
       "      <td>False</td>\n",
       "      <td>True</td>\n",
       "      <td>False</td>\n",
       "      <td>True</td>\n",
       "      <td>False</td>\n",
       "      <td>False</td>\n",
       "      <td>True</td>\n",
       "      <td>False</td>\n",
       "      <td>False</td>\n",
       "      <td>True</td>\n",
       "      <td>True</td>\n",
       "      <td>True</td>\n",
       "      <td>False</td>\n",
       "      <td>False</td>\n",
       "      <td>False</td>\n",
       "    </tr>\n",
       "    <tr>\n",
       "      <th>3</th>\n",
       "      <td>False</td>\n",
       "      <td>True</td>\n",
       "      <td>False</td>\n",
       "      <td>True</td>\n",
       "      <td>True</td>\n",
       "      <td>False</td>\n",
       "      <td>False</td>\n",
       "      <td>False</td>\n",
       "      <td>True</td>\n",
       "      <td>False</td>\n",
       "      <td>False</td>\n",
       "      <td>False</td>\n",
       "      <td>False</td>\n",
       "      <td>False</td>\n",
       "      <td>False</td>\n",
       "      <td>False</td>\n",
       "      <td>False</td>\n",
       "      <td>False</td>\n",
       "      <td>False</td>\n",
       "    </tr>\n",
       "    <tr>\n",
       "      <th>4</th>\n",
       "      <td>False</td>\n",
       "      <td>False</td>\n",
       "      <td>False</td>\n",
       "      <td>True</td>\n",
       "      <td>True</td>\n",
       "      <td>True</td>\n",
       "      <td>False</td>\n",
       "      <td>False</td>\n",
       "      <td>False</td>\n",
       "      <td>False</td>\n",
       "      <td>False</td>\n",
       "      <td>True</td>\n",
       "      <td>False</td>\n",
       "      <td>False</td>\n",
       "      <td>False</td>\n",
       "      <td>False</td>\n",
       "      <td>False</td>\n",
       "      <td>False</td>\n",
       "      <td>True</td>\n",
       "    </tr>\n",
       "  </tbody>\n",
       "</table>\n",
       "</div>"
      ],
      "text/plain": [
       "   apple  banana  bananas  bread  chicken  chips   curd   eggs   fish  \\\n",
       "0  False   False    False  False    False  False  False   True  False   \n",
       "1  False   False     True  False    False   True   True   True  False   \n",
       "2  False   False    False  False    False   True  False   True  False   \n",
       "3  False    True    False   True     True  False  False  False   True   \n",
       "4  False   False    False   True     True   True  False  False  False   \n",
       "\n",
       "   kidney beans  maggie   milk  nutmeg  onion  pani puri  peanuts  red bull  \\\n",
       "0          True   False   True    True   True      False    False     False   \n",
       "1         False   False  False    True  False      False    False      True   \n",
       "2         False    True  False   False   True       True     True     False   \n",
       "3         False   False  False   False  False      False    False     False   \n",
       "4         False   False   True   False  False      False    False     False   \n",
       "\n",
       "    rice  yogurt  \n",
       "0  False    True  \n",
       "1  False   False  \n",
       "2  False   False  \n",
       "3  False   False  \n",
       "4  False    True  "
      ]
     },
     "execution_count": 28,
     "metadata": {},
     "output_type": "execute_result"
    }
   ],
   "source": [
    "df = pd.DataFrame(te_array, columns = te.columns_)\n",
    "df.head()"
   ]
  },
  {
   "cell_type": "code",
   "execution_count": 29,
   "metadata": {
    "colab": {
     "base_uri": "https://localhost:8080/",
     "height": 512
    },
    "executionInfo": {
     "elapsed": 587,
     "status": "ok",
     "timestamp": 1737616101710,
     "user": {
      "displayName": "hariom sharma",
      "userId": "14280852939699748120"
     },
     "user_tz": -330
    },
    "id": "Wffmfkj5-KOG",
    "outputId": "867cc7fc-b7d2-4863-c06d-1ded399f98c7"
   },
   "outputs": [
    {
     "data": {
      "text/html": [
       "<div>\n",
       "<style scoped>\n",
       "    .dataframe tbody tr th:only-of-type {\n",
       "        vertical-align: middle;\n",
       "    }\n",
       "\n",
       "    .dataframe tbody tr th {\n",
       "        vertical-align: top;\n",
       "    }\n",
       "\n",
       "    .dataframe thead th {\n",
       "        text-align: right;\n",
       "    }\n",
       "</style>\n",
       "<table border=\"1\" class=\"dataframe\">\n",
       "  <thead>\n",
       "    <tr style=\"text-align: right;\">\n",
       "      <th></th>\n",
       "      <th>support</th>\n",
       "      <th>itemsets</th>\n",
       "    </tr>\n",
       "  </thead>\n",
       "  <tbody>\n",
       "    <tr>\n",
       "      <th>0</th>\n",
       "      <td>0.333333</td>\n",
       "      <td>(bread)</td>\n",
       "    </tr>\n",
       "    <tr>\n",
       "      <th>1</th>\n",
       "      <td>0.333333</td>\n",
       "      <td>(chicken)</td>\n",
       "    </tr>\n",
       "    <tr>\n",
       "      <th>2</th>\n",
       "      <td>0.666667</td>\n",
       "      <td>(chips)</td>\n",
       "    </tr>\n",
       "    <tr>\n",
       "      <th>3</th>\n",
       "      <td>0.500000</td>\n",
       "      <td>(eggs)</td>\n",
       "    </tr>\n",
       "    <tr>\n",
       "      <th>4</th>\n",
       "      <td>0.333333</td>\n",
       "      <td>(milk)</td>\n",
       "    </tr>\n",
       "    <tr>\n",
       "      <th>5</th>\n",
       "      <td>0.333333</td>\n",
       "      <td>(nutmeg)</td>\n",
       "    </tr>\n",
       "    <tr>\n",
       "      <th>6</th>\n",
       "      <td>0.333333</td>\n",
       "      <td>(onion)</td>\n",
       "    </tr>\n",
       "    <tr>\n",
       "      <th>7</th>\n",
       "      <td>0.333333</td>\n",
       "      <td>(yogurt)</td>\n",
       "    </tr>\n",
       "    <tr>\n",
       "      <th>8</th>\n",
       "      <td>0.333333</td>\n",
       "      <td>(bread, chicken)</td>\n",
       "    </tr>\n",
       "    <tr>\n",
       "      <th>9</th>\n",
       "      <td>0.333333</td>\n",
       "      <td>(eggs, chips)</td>\n",
       "    </tr>\n",
       "    <tr>\n",
       "      <th>10</th>\n",
       "      <td>0.333333</td>\n",
       "      <td>(nutmeg, eggs)</td>\n",
       "    </tr>\n",
       "    <tr>\n",
       "      <th>11</th>\n",
       "      <td>0.333333</td>\n",
       "      <td>(eggs, onion)</td>\n",
       "    </tr>\n",
       "    <tr>\n",
       "      <th>12</th>\n",
       "      <td>0.333333</td>\n",
       "      <td>(milk, yogurt)</td>\n",
       "    </tr>\n",
       "  </tbody>\n",
       "</table>\n",
       "</div>"
      ],
      "text/plain": [
       "     support          itemsets\n",
       "0   0.333333           (bread)\n",
       "1   0.333333         (chicken)\n",
       "2   0.666667           (chips)\n",
       "3   0.500000            (eggs)\n",
       "4   0.333333            (milk)\n",
       "5   0.333333          (nutmeg)\n",
       "6   0.333333           (onion)\n",
       "7   0.333333          (yogurt)\n",
       "8   0.333333  (bread, chicken)\n",
       "9   0.333333     (eggs, chips)\n",
       "10  0.333333    (nutmeg, eggs)\n",
       "11  0.333333     (eggs, onion)\n",
       "12  0.333333    (milk, yogurt)"
      ]
     },
     "execution_count": 29,
     "metadata": {},
     "output_type": "execute_result"
    }
   ],
   "source": [
    "fre_items = apriori(df, min_support = 0.3, use_colnames = True)\n",
    "fre_items"
   ]
  },
  {
   "cell_type": "code",
   "execution_count": 30,
   "metadata": {
    "colab": {
     "base_uri": "https://localhost:8080/",
     "height": 418
    },
    "executionInfo": {
     "elapsed": 646,
     "status": "ok",
     "timestamp": 1737616385435,
     "user": {
      "displayName": "hariom sharma",
      "userId": "14280852939699748120"
     },
     "user_tz": -330
    },
    "id": "Hp7JMpQ__MN-",
    "outputId": "8d7f66d8-5bd1-4473-f5f7-b429269fd9ad"
   },
   "outputs": [
    {
     "data": {
      "text/html": [
       "<div>\n",
       "<style scoped>\n",
       "    .dataframe tbody tr th:only-of-type {\n",
       "        vertical-align: middle;\n",
       "    }\n",
       "\n",
       "    .dataframe tbody tr th {\n",
       "        vertical-align: top;\n",
       "    }\n",
       "\n",
       "    .dataframe thead th {\n",
       "        text-align: right;\n",
       "    }\n",
       "</style>\n",
       "<table border=\"1\" class=\"dataframe\">\n",
       "  <thead>\n",
       "    <tr style=\"text-align: right;\">\n",
       "      <th></th>\n",
       "      <th>antecedents</th>\n",
       "      <th>consequents</th>\n",
       "      <th>support</th>\n",
       "      <th>confidence</th>\n",
       "    </tr>\n",
       "  </thead>\n",
       "  <tbody>\n",
       "    <tr>\n",
       "      <th>0</th>\n",
       "      <td>(bread)</td>\n",
       "      <td>(chicken)</td>\n",
       "      <td>0.333333</td>\n",
       "      <td>1.000000</td>\n",
       "    </tr>\n",
       "    <tr>\n",
       "      <th>1</th>\n",
       "      <td>(chicken)</td>\n",
       "      <td>(bread)</td>\n",
       "      <td>0.333333</td>\n",
       "      <td>1.000000</td>\n",
       "    </tr>\n",
       "    <tr>\n",
       "      <th>2</th>\n",
       "      <td>(eggs)</td>\n",
       "      <td>(chips)</td>\n",
       "      <td>0.333333</td>\n",
       "      <td>0.666667</td>\n",
       "    </tr>\n",
       "    <tr>\n",
       "      <th>3</th>\n",
       "      <td>(chips)</td>\n",
       "      <td>(eggs)</td>\n",
       "      <td>0.333333</td>\n",
       "      <td>0.500000</td>\n",
       "    </tr>\n",
       "    <tr>\n",
       "      <th>4</th>\n",
       "      <td>(nutmeg)</td>\n",
       "      <td>(eggs)</td>\n",
       "      <td>0.333333</td>\n",
       "      <td>1.000000</td>\n",
       "    </tr>\n",
       "    <tr>\n",
       "      <th>5</th>\n",
       "      <td>(eggs)</td>\n",
       "      <td>(nutmeg)</td>\n",
       "      <td>0.333333</td>\n",
       "      <td>0.666667</td>\n",
       "    </tr>\n",
       "    <tr>\n",
       "      <th>6</th>\n",
       "      <td>(eggs)</td>\n",
       "      <td>(onion)</td>\n",
       "      <td>0.333333</td>\n",
       "      <td>0.666667</td>\n",
       "    </tr>\n",
       "    <tr>\n",
       "      <th>7</th>\n",
       "      <td>(onion)</td>\n",
       "      <td>(eggs)</td>\n",
       "      <td>0.333333</td>\n",
       "      <td>1.000000</td>\n",
       "    </tr>\n",
       "    <tr>\n",
       "      <th>8</th>\n",
       "      <td>(milk)</td>\n",
       "      <td>(yogurt)</td>\n",
       "      <td>0.333333</td>\n",
       "      <td>1.000000</td>\n",
       "    </tr>\n",
       "    <tr>\n",
       "      <th>9</th>\n",
       "      <td>(yogurt)</td>\n",
       "      <td>(milk)</td>\n",
       "      <td>0.333333</td>\n",
       "      <td>1.000000</td>\n",
       "    </tr>\n",
       "  </tbody>\n",
       "</table>\n",
       "</div>"
      ],
      "text/plain": [
       "  antecedents consequents   support  confidence\n",
       "0     (bread)   (chicken)  0.333333    1.000000\n",
       "1   (chicken)     (bread)  0.333333    1.000000\n",
       "2      (eggs)     (chips)  0.333333    0.666667\n",
       "3     (chips)      (eggs)  0.333333    0.500000\n",
       "4    (nutmeg)      (eggs)  0.333333    1.000000\n",
       "5      (eggs)    (nutmeg)  0.333333    0.666667\n",
       "6      (eggs)     (onion)  0.333333    0.666667\n",
       "7     (onion)      (eggs)  0.333333    1.000000\n",
       "8      (milk)    (yogurt)  0.333333    1.000000\n",
       "9    (yogurt)      (milk)  0.333333    1.000000"
      ]
     },
     "execution_count": 30,
     "metadata": {},
     "output_type": "execute_result"
    }
   ],
   "source": [
    "arm = association_rules(fre_items, metric = 'confidence', min_threshold = 0.2)\n",
    "arm[['antecedents',\t'consequents', 'support',\t'confidence']]"
   ]
  },
  {
   "cell_type": "code",
   "execution_count": null,
   "metadata": {
    "id": "QezJBZUf_8T9"
   },
   "outputs": [],
   "source": []
  },
  {
   "cell_type": "code",
   "execution_count": null,
   "metadata": {},
   "outputs": [],
   "source": []
  }
 ],
 "metadata": {
  "colab": {
   "authorship_tag": "ABX9TyPRRYWNd3tk+nXmhEC0RxwV",
   "provenance": []
  },
  "kernelspec": {
   "display_name": "Python 3 (ipykernel)",
   "language": "python",
   "name": "python3"
  },
  "language_info": {
   "codemirror_mode": {
    "name": "ipython",
    "version": 3
   },
   "file_extension": ".py",
   "mimetype": "text/x-python",
   "name": "python",
   "nbconvert_exporter": "python",
   "pygments_lexer": "ipython3",
   "version": "3.11.2"
  }
 },
 "nbformat": 4,
 "nbformat_minor": 4
}
