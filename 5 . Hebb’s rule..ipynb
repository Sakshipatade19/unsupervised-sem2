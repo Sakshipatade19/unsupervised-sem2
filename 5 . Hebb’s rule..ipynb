{
 "cells": [
  {
   "cell_type": "markdown",
   "id": "e70a2269-8d0f-4f41-928b-b90d9ff2624a",
   "metadata": {},
   "source": [
    "## Implementation of heb rule learning "
   ]
  },
  {
   "cell_type": "code",
   "execution_count": 1,
   "id": "f514a1ac-23d4-4cc5-9a43-28e11636c3f9",
   "metadata": {},
   "outputs": [],
   "source": [
    "import numpy as np\n",
    "\n",
    "x1 = np.array([1, 1, 1, -1, 1, -1, 1, 1, 1])\n",
    "x2 = np.array([1, 1, 1, 1, -1, 1, 1, 1, 1])\n",
    "b = 0\n",
    "y = np.array([1, -1])\n",
    "wtold = np.zeros((9,))\n",
    "wtnew = np.zeros((9,))\n",
    "wtnew = wtnew.astype(int)\n",
    "wtold = wtold.astype(int)"
   ]
  },
  {
   "cell_type": "code",
   "execution_count": 2,
   "id": "a7d96920-7f59-41cf-8a7c-26c4f33d1d34",
   "metadata": {},
   "outputs": [
    {
     "name": "stdout",
     "output_type": "stream",
     "text": [
      "First input with target = 1\n",
      "New wt= [ 1  1  1 -1  1 -1  1  1  1]\n",
      "Bias value=  1\n"
     ]
    }
   ],
   "source": [
    "print(\"First input with target = 1\")\n",
    "for i in range(0, 9):\n",
    "    wtnew[i] = wtold[i] + x1[i] * y[0]\n",
    "wtold = wtnew\n",
    "b = b + y[0]\n",
    "print(\"New wt=\", wtnew)\n",
    "print(\"Bias value= \", b)"
   ]
  },
  {
   "cell_type": "code",
   "execution_count": 3,
   "id": "11967ddf-9d38-4239-83f6-c7c14c1850c3",
   "metadata": {},
   "outputs": [
    {
     "name": "stdout",
     "output_type": "stream",
     "text": [
      "second input with target = -1\n",
      "New wt= [ 0  0  0 -2  2 -2  0  0  0]\n",
      "Bias value=  0\n"
     ]
    }
   ],
   "source": [
    "print(\"second input with target = -1\")\n",
    "for i in range(0, 9):\n",
    "    wtnew[i] = wtold[i] + x2[i] * y[1]\n",
    "wtold = wtnew\n",
    "b = b + y[1]\n",
    "print(\"New wt=\", wtnew)\n",
    "print(\"Bias value= \", b)"
   ]
  },
  {
   "cell_type": "code",
   "execution_count": null,
   "id": "f49acff7-ff31-468d-ba17-e45011b59c51",
   "metadata": {},
   "outputs": [],
   "source": []
  },
  {
   "cell_type": "code",
   "execution_count": null,
   "id": "bd27ec08-2bbc-4593-af6e-6fbac56dc211",
   "metadata": {},
   "outputs": [],
   "source": []
  }
 ],
 "metadata": {
  "kernelspec": {
   "display_name": "Python 3 (ipykernel)",
   "language": "python",
   "name": "python3"
  },
  "language_info": {
   "codemirror_mode": {
    "name": "ipython",
    "version": 3
   },
   "file_extension": ".py",
   "mimetype": "text/x-python",
   "name": "python",
   "nbconvert_exporter": "python",
   "pygments_lexer": "ipython3",
   "version": "3.11.2"
  }
 },
 "nbformat": 4,
 "nbformat_minor": 5
}
