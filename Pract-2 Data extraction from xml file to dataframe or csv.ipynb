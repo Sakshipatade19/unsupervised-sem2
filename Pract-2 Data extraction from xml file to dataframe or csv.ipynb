{
 "cells": [
  {
   "cell_type": "markdown",
   "id": "3ecd0033-c8e4-473d-95c9-bc1658f7c930",
   "metadata": {},
   "source": [
    "# Perform data extraction from xml file to dataframe/csv"
   ]
  },
  {
   "cell_type": "code",
   "execution_count": 1,
   "id": "935e3db9-5ccc-40f8-a245-349e57ee0fbe",
   "metadata": {},
   "outputs": [],
   "source": [
    "import pandas as pd\n",
    "import xml.etree.ElementTree as et"
   ]
  },
  {
   "cell_type": "code",
   "execution_count": 2,
   "id": "afc46d7c-ab9b-42ba-94cf-bc972a349795",
   "metadata": {},
   "outputs": [
    {
     "data": {
      "text/plain": [
       "<xml.etree.ElementTree.ElementTree at 0x2686ca89690>"
      ]
     },
     "execution_count": 2,
     "metadata": {},
     "output_type": "execute_result"
    }
   ],
   "source": [
    "xtree = et.parse('student_data.xml')\n",
    "xtree"
   ]
  },
  {
   "cell_type": "code",
   "execution_count": 3,
   "id": "fd7abb52-1be6-4569-9ede-1177607a490b",
   "metadata": {},
   "outputs": [
    {
     "data": {
      "text/plain": [
       "'data'"
      ]
     },
     "execution_count": 3,
     "metadata": {},
     "output_type": "execute_result"
    }
   ],
   "source": [
    "xroot = xtree.getroot()\n",
    "xroot.tag"
   ]
  },
  {
   "cell_type": "code",
   "execution_count": 4,
   "id": "e26bc2b5-824e-4a4e-a8ee-c59b6ce5b676",
   "metadata": {},
   "outputs": [],
   "source": [
    "rows = []\n",
    "for node in xroot:\n",
    "    sname = node.attrib.get(\"name\") if node is not None else None\n",
    "    semail = node.find(\"email\").text if node is not None else None\n",
    "    srollno = node.find('roll_no').text if node is not None else None\n",
    "    sage = node.find('age').text if node is not None else None\n",
    "    rows.append({'Name':sname, 'Email':semail, 'RollNo':srollno, 'Age':sage})"
   ]
  },
  {
   "cell_type": "code",
   "execution_count": 5,
   "id": "626f4a5f-0978-4b14-9994-74b8598da5d9",
   "metadata": {},
   "outputs": [
    {
     "data": {
      "text/html": [
       "<div>\n",
       "<style scoped>\n",
       "    .dataframe tbody tr th:only-of-type {\n",
       "        vertical-align: middle;\n",
       "    }\n",
       "\n",
       "    .dataframe tbody tr th {\n",
       "        vertical-align: top;\n",
       "    }\n",
       "\n",
       "    .dataframe thead th {\n",
       "        text-align: right;\n",
       "    }\n",
       "</style>\n",
       "<table border=\"1\" class=\"dataframe\">\n",
       "  <thead>\n",
       "    <tr style=\"text-align: right;\">\n",
       "      <th></th>\n",
       "      <th>Name</th>\n",
       "      <th>Email</th>\n",
       "      <th>RollNo</th>\n",
       "      <th>Age</th>\n",
       "    </tr>\n",
       "  </thead>\n",
       "  <tbody>\n",
       "    <tr>\n",
       "      <th>0</th>\n",
       "      <td>John</td>\n",
       "      <td>john@gmail.com</td>\n",
       "      <td>1</td>\n",
       "      <td>16</td>\n",
       "    </tr>\n",
       "    <tr>\n",
       "      <th>1</th>\n",
       "      <td>Pratap</td>\n",
       "      <td>pratap@gmail.com</td>\n",
       "      <td>2</td>\n",
       "      <td>15</td>\n",
       "    </tr>\n",
       "    <tr>\n",
       "      <th>2</th>\n",
       "      <td>Lydia</td>\n",
       "      <td>lydia@gmail.com</td>\n",
       "      <td>3</td>\n",
       "      <td>16</td>\n",
       "    </tr>\n",
       "    <tr>\n",
       "      <th>3</th>\n",
       "      <td>Subhash</td>\n",
       "      <td>shubash@gmail.com</td>\n",
       "      <td>4</td>\n",
       "      <td>17</td>\n",
       "    </tr>\n",
       "    <tr>\n",
       "      <th>4</th>\n",
       "      <td>Naved</td>\n",
       "      <td>naved@gmail.com</td>\n",
       "      <td>5</td>\n",
       "      <td>16</td>\n",
       "    </tr>\n",
       "  </tbody>\n",
       "</table>\n",
       "</div>"
      ],
      "text/plain": [
       "      Name               Email RollNo   Age\n",
       "0     John      john@gmail.com     1    16 \n",
       "1   Pratap    pratap@gmail.com     2    15 \n",
       "2    Lydia     lydia@gmail.com     3    16 \n",
       "3  Subhash   shubash@gmail.com     4    17 \n",
       "4    Naved     naved@gmail.com     5    16 "
      ]
     },
     "execution_count": 5,
     "metadata": {},
     "output_type": "execute_result"
    }
   ],
   "source": [
    "df = pd.DataFrame(data = rows)\n",
    "df.head()"
   ]
  },
  {
   "cell_type": "code",
   "execution_count": 6,
   "id": "ef1b8909-c620-4fee-8b1d-04f49833868e",
   "metadata": {},
   "outputs": [],
   "source": [
    "df.to_csv('output2.csv')"
   ]
  },
  {
   "cell_type": "code",
   "execution_count": null,
   "id": "8b908309-697a-4df1-905d-f7f68d51e6df",
   "metadata": {},
   "outputs": [],
   "source": []
  },
  {
   "cell_type": "code",
   "execution_count": null,
   "id": "9d32e154-9f3f-4927-8c9d-6a75a0edc5d1",
   "metadata": {},
   "outputs": [],
   "source": []
  }
 ],
 "metadata": {
  "kernelspec": {
   "display_name": "Python 3 (ipykernel)",
   "language": "python",
   "name": "python3"
  },
  "language_info": {
   "codemirror_mode": {
    "name": "ipython",
    "version": 3
   },
   "file_extension": ".py",
   "mimetype": "text/x-python",
   "name": "python",
   "nbconvert_exporter": "python",
   "pygments_lexer": "ipython3",
   "version": "3.11.2"
  }
 },
 "nbformat": 4,
 "nbformat_minor": 5
}
