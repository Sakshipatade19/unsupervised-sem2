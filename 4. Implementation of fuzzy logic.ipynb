{
 "cells": [
  {
   "cell_type": "code",
   "execution_count": 1,
   "metadata": {
    "colab": {
     "base_uri": "https://localhost:8080/"
    },
    "executionInfo": {
     "elapsed": 7328,
     "status": "ok",
     "timestamp": 1738295020624,
     "user": {
      "displayName": "sameer prajapati",
      "userId": "10663591737837656318"
     },
     "user_tz": -330
    },
    "id": "rCm6tT_zOYfn",
    "outputId": "4c4557b7-d95f-46c2-d8f0-ff558288bec1"
   },
   "outputs": [
    {
     "name": "stdout",
     "output_type": "stream",
     "text": [
      "Collecting scikit-fuzzy\n",
      "  Downloading scikit_fuzzy-0.5.0-py2.py3-none-any.whl.metadata (2.6 kB)\n",
      "Downloading scikit_fuzzy-0.5.0-py2.py3-none-any.whl (920 kB)\n",
      "\u001b[2K   \u001b[90m━━━━━━━━━━━━━━━━━━━━━━━━━━━━━━━━━━━━━━━━\u001b[0m \u001b[32m920.8/920.8 kB\u001b[0m \u001b[31m9.2 MB/s\u001b[0m eta \u001b[36m0:00:00\u001b[0m\n",
      "\u001b[?25hInstalling collected packages: scikit-fuzzy\n",
      "Successfully installed scikit-fuzzy-0.5.0\n"
     ]
    }
   ],
   "source": [
    "!pip install -U scikit-fuzzy"
   ]
  },
  {
   "cell_type": "code",
   "execution_count": 1,
   "metadata": {
    "executionInfo": {
     "elapsed": 3,
     "status": "ok",
     "timestamp": 1738295020624,
     "user": {
      "displayName": "sameer prajapati",
      "userId": "10663591737837656318"
     },
     "user_tz": -330
    },
    "id": "xxBFQq2EVL7Y"
   },
   "outputs": [],
   "source": [
    "import numpy as np\n",
    "import skfuzzy as fuzz"
   ]
  },
  {
   "cell_type": "code",
   "execution_count": 2,
   "metadata": {
    "executionInfo": {
     "elapsed": 372,
     "status": "ok",
     "timestamp": 1738295023535,
     "user": {
      "displayName": "sameer prajapati",
      "userId": "10663591737837656318"
     },
     "user_tz": -330
    },
    "id": "c5uJzHYoWQ_L"
   },
   "outputs": [],
   "source": [
    "# Step 1: Define the fuzzy variables (temperature and fan speed)\n",
    "temperature = np.arange(0, 41, 1)  # temperature range (0 to 40 degrees)\n",
    "fan_speed = np.arange(0, 11, 1)    # fan speed range (0 to 10)"
   ]
  },
  {
   "cell_type": "code",
   "execution_count": 3,
   "metadata": {
    "executionInfo": {
     "elapsed": 2,
     "status": "ok",
     "timestamp": 1738295024050,
     "user": {
      "displayName": "sameer prajapati",
      "userId": "10663591737837656318"
     },
     "user_tz": -330
    },
    "id": "-s0KOSHwW5gz"
   },
   "outputs": [],
   "source": [
    "# Step 2: Define fuzzy membership functions for temperature\n",
    "temp_low = fuzz.trimf(temperature, [0, 0, 20])     # Low temperature (0 to 20)\n",
    "temp_moderate = fuzz.trimf(temperature, [10, 20, 30]) # Moderate temperature (10 to 30)\n",
    "temp_high = fuzz.trimf(temperature, [20, 40, 40])   # High temperature (20 to 40)"
   ]
  },
  {
   "cell_type": "code",
   "execution_count": 4,
   "metadata": {
    "executionInfo": {
     "elapsed": 2,
     "status": "ok",
     "timestamp": 1738295025721,
     "user": {
      "displayName": "sameer prajapati",
      "userId": "10663591737837656318"
     },
     "user_tz": -330
    },
    "id": "SSaAJzxXW9AY"
   },
   "outputs": [],
   "source": [
    "# Step 3: Define fuzzy membership functions for fan speed\n",
    "fan_slow = fuzz.trimf(fan_speed, [0, 0, 5])      # Slow fan speed\n",
    "fan_medium = fuzz.trimf(fan_speed, [0, 5, 10])    # Medium fan speed\n",
    "fan_fast = fuzz.trimf(fan_speed, [5, 10, 10])     # Fast fan speed"
   ]
  },
  {
   "cell_type": "code",
   "execution_count": 9,
   "metadata": {
    "executionInfo": {
     "elapsed": 2,
     "status": "ok",
     "timestamp": 1738295026299,
     "user": {
      "displayName": "sameer prajapati",
      "userId": "10663591737837656318"
     },
     "user_tz": -330
    },
    "id": "I73GkbA9W_qx"
   },
   "outputs": [],
   "source": [
    "# Step 4: Fuzzify the input temperature value\n",
    "temp_input = 30 # Example: Temperature input is 30 degrees\n",
    "\n",
    "temp_low_degree = fuzz.interp_membership(temperature, temp_low, temp_input)\n",
    "temp_moderate_degree = fuzz.interp_membership(temperature, temp_moderate, temp_input)\n",
    "temp_high_degree = fuzz.interp_membership(temperature, temp_high, temp_input)\n"
   ]
  },
  {
   "cell_type": "code",
   "execution_count": 10,
   "metadata": {
    "executionInfo": {
     "elapsed": 2,
     "status": "ok",
     "timestamp": 1738295026923,
     "user": {
      "displayName": "sameer prajapati",
      "userId": "10663591737837656318"
     },
     "user_tz": -330
    },
    "id": "jFJpiqjbXJC6"
   },
   "outputs": [],
   "source": [
    "# Step 5: Apply fuzzy rules\n",
    "fan_slow_degree = min(temp_low_degree, 1)  # Rule 1: if temp is low, fan speed is slow\n",
    "fan_medium_degree = min(temp_moderate_degree, 1)  # Rule 2: if temp is moderate, fan speed is medium\n",
    "fan_fast_degree = min(temp_high_degree, 1)  # Rule 3: if temp is high, fan speed is fast"
   ]
  },
  {
   "cell_type": "code",
   "execution_count": 7,
   "metadata": {
    "executionInfo": {
     "elapsed": 2,
     "status": "ok",
     "timestamp": 1738295026924,
     "user": {
      "displayName": "sameer prajapati",
      "userId": "10663591737837656318"
     },
     "user_tz": -330
    },
    "id": "fHl_KFZdXe3E"
   },
   "outputs": [],
   "source": [
    "# Step 6: Aggregate the results\n",
    "aggregated_fan_speed = np.fmax(fan_slow_degree * fan_slow,\n",
    "                               np.fmax(fan_medium_degree * fan_medium,\n",
    "                                       fan_fast_degree * fan_fast))"
   ]
  },
  {
   "cell_type": "code",
   "execution_count": 11,
   "metadata": {
    "colab": {
     "base_uri": "https://localhost:8080/"
    },
    "executionInfo": {
     "elapsed": 4,
     "status": "ok",
     "timestamp": 1738295027562,
     "user": {
      "displayName": "sameer prajapati",
      "userId": "10663591737837656318"
     },
     "user_tz": -330
    },
    "id": "Ns9QqxnnXiM1",
    "outputId": "9f20c037-491f-4fcb-9d74-a95843c2a297"
   },
   "outputs": [
    {
     "name": "stdout",
     "output_type": "stream",
     "text": [
      "Fuzzy Fan Speed Output for temperature 30°C: 8.333333333333334\n"
     ]
    }
   ],
   "source": [
    "# Step 7: Defuzzify the result (crisp value)\n",
    "fan_speed_output = fuzz.defuzz(fan_speed, aggregated_fan_speed, 'centroid')\n",
    "print(f\"Fuzzy Fan Speed Output for temperature {temp_input}°C: {fan_speed_output}\")"
   ]
  },
  {
   "cell_type": "code",
   "execution_count": null,
   "metadata": {
    "executionInfo": {
     "elapsed": 421,
     "status": "ok",
     "timestamp": 1738295030194,
     "user": {
      "displayName": "sameer prajapati",
      "userId": "10663591737837656318"
     },
     "user_tz": -330
    },
    "id": "A60GK28AXpra"
   },
   "outputs": [],
   "source": []
  },
  {
   "cell_type": "code",
   "execution_count": null,
   "metadata": {},
   "outputs": [],
   "source": []
  }
 ],
 "metadata": {
  "colab": {
   "provenance": []
  },
  "kernelspec": {
   "display_name": "Python 3 (ipykernel)",
   "language": "python",
   "name": "python3"
  },
  "language_info": {
   "codemirror_mode": {
    "name": "ipython",
    "version": 3
   },
   "file_extension": ".py",
   "mimetype": "text/x-python",
   "name": "python",
   "nbconvert_exporter": "python",
   "pygments_lexer": "ipython3",
   "version": "3.11.2"
  }
 },
 "nbformat": 4,
 "nbformat_minor": 4
}
