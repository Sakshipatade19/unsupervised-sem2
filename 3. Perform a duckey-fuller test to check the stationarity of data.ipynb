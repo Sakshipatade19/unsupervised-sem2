{
 "cells": [
  {
   "cell_type": "markdown",
   "id": "4d078de8-595c-4803-9a36-75a9295ad1d4",
   "metadata": {},
   "source": [
    "## 3. Perform a duckey fuller test to check the stationarity of data"
   ]
  },
  {
   "cell_type": "code",
   "execution_count": 5,
   "id": "67a39bd2-e761-4391-bc24-7a1a37e8a805",
   "metadata": {},
   "outputs": [],
   "source": [
    "import pandas as pd\n",
    "import matplotlib.pyplot as plt\n",
    "from statsmodels.tsa.stattools import adfuller"
   ]
  },
  {
   "cell_type": "code",
   "execution_count": 15,
   "id": "aba27294-993c-41b3-a318-c9811dd4ff11",
   "metadata": {},
   "outputs": [
    {
     "data": {
      "text/html": [
       "<div>\n",
       "<style scoped>\n",
       "    .dataframe tbody tr th:only-of-type {\n",
       "        vertical-align: middle;\n",
       "    }\n",
       "\n",
       "    .dataframe tbody tr th {\n",
       "        vertical-align: top;\n",
       "    }\n",
       "\n",
       "    .dataframe thead th {\n",
       "        text-align: right;\n",
       "    }\n",
       "</style>\n",
       "<table border=\"1\" class=\"dataframe\">\n",
       "  <thead>\n",
       "    <tr style=\"text-align: right;\">\n",
       "      <th></th>\n",
       "      <th>date</th>\n",
       "      <th>value</th>\n",
       "    </tr>\n",
       "  </thead>\n",
       "  <tbody>\n",
       "    <tr>\n",
       "      <th>0</th>\n",
       "      <td>2020-01-01</td>\n",
       "      <td>0.0</td>\n",
       "    </tr>\n",
       "    <tr>\n",
       "      <th>1</th>\n",
       "      <td>2020-01-02</td>\n",
       "      <td>1.1</td>\n",
       "    </tr>\n",
       "    <tr>\n",
       "      <th>2</th>\n",
       "      <td>2020-01-03</td>\n",
       "      <td>2.2</td>\n",
       "    </tr>\n",
       "    <tr>\n",
       "      <th>3</th>\n",
       "      <td>2020-01-04</td>\n",
       "      <td>3.3</td>\n",
       "    </tr>\n",
       "    <tr>\n",
       "      <th>4</th>\n",
       "      <td>2020-01-05</td>\n",
       "      <td>4.4</td>\n",
       "    </tr>\n",
       "    <tr>\n",
       "      <th>...</th>\n",
       "      <td>...</td>\n",
       "      <td>...</td>\n",
       "    </tr>\n",
       "    <tr>\n",
       "      <th>95</th>\n",
       "      <td>2020-04-05</td>\n",
       "      <td>104.5</td>\n",
       "    </tr>\n",
       "    <tr>\n",
       "      <th>96</th>\n",
       "      <td>2020-04-06</td>\n",
       "      <td>105.6</td>\n",
       "    </tr>\n",
       "    <tr>\n",
       "      <th>97</th>\n",
       "      <td>2020-04-07</td>\n",
       "      <td>106.7</td>\n",
       "    </tr>\n",
       "    <tr>\n",
       "      <th>98</th>\n",
       "      <td>2020-04-08</td>\n",
       "      <td>107.8</td>\n",
       "    </tr>\n",
       "    <tr>\n",
       "      <th>99</th>\n",
       "      <td>2020-04-09</td>\n",
       "      <td>108.9</td>\n",
       "    </tr>\n",
       "  </tbody>\n",
       "</table>\n",
       "<p>100 rows × 2 columns</p>\n",
       "</div>"
      ],
      "text/plain": [
       "         date  value\n",
       "0  2020-01-01    0.0\n",
       "1  2020-01-02    1.1\n",
       "2  2020-01-03    2.2\n",
       "3  2020-01-04    3.3\n",
       "4  2020-01-05    4.4\n",
       "..        ...    ...\n",
       "95 2020-04-05  104.5\n",
       "96 2020-04-06  105.6\n",
       "97 2020-04-07  106.7\n",
       "98 2020-04-08  107.8\n",
       "99 2020-04-09  108.9\n",
       "\n",
       "[100 rows x 2 columns]"
      ]
     },
     "execution_count": 15,
     "metadata": {},
     "output_type": "execute_result"
    }
   ],
   "source": [
    "data= {\n",
    "    'date':pd.date_range(start=\"2020-01-01\",periods=100,freq=\"D\"),\n",
    "    'value':[x+ (x*0.1) for x in range(100)]\n",
    "}\n",
    "df=pd.DataFrame(data)\n",
    "df"
   ]
  },
  {
   "cell_type": "code",
   "execution_count": 16,
   "id": "75e10721-f281-4c56-ae22-59fd93e86ffe",
   "metadata": {},
   "outputs": [
    {
     "name": "stdout",
     "output_type": "stream",
     "text": [
      "ADF statistic :  0.4164801579950584\n",
      "P-value :  0.9821008877877976\n",
      "Critical values : \n",
      " 1%:-3.498198082189098\n",
      " 5%:-2.891208211860468\n",
      " 10%:-2.5825959973472097\n",
      "The time series is Not Stationary\n"
     ]
    }
   ],
   "source": [
    "# performing ADF test\n",
    "adf_result= adfuller(df['value'])\n",
    "\n",
    "#------\n",
    "print(\"ADF statistic : \",adf_result[0])\n",
    "print(\"P-value : \",adf_result[1])\n",
    "print(\"Critical values : \")\n",
    "for i, value in adf_result[4].items():\n",
    "    print(f\" {i}:{value}\")\n",
    "\n",
    "# intrepretation\n",
    "if adf_result[1] <=0.05:\n",
    "    print(\"The time series is Stationary\")\n",
    "else:\n",
    "    print(\"The time series is Not Stationary\")"
   ]
  },
  {
   "cell_type": "code",
   "execution_count": 17,
   "id": "ce40d060-ec2d-4221-9572-35fbbd8abe6d",
   "metadata": {},
   "outputs": [
    {
     "data": {
      "text/plain": [
       "(0.4164801579950584,\n",
       " 0.9821008877877976,\n",
       " 0,\n",
       " 99,\n",
       " {'1%': -3.498198082189098,\n",
       "  '5%': -2.891208211860468,\n",
       "  '10%': -2.5825959973472097},\n",
       " -5473.623239377238)"
      ]
     },
     "execution_count": 17,
     "metadata": {},
     "output_type": "execute_result"
    }
   ],
   "source": [
    "adf_result"
   ]
  },
  {
   "cell_type": "code",
   "execution_count": null,
   "id": "09da43db-39b9-405a-af8f-ab11d9c2541d",
   "metadata": {},
   "outputs": [],
   "source": []
  },
  {
   "cell_type": "code",
   "execution_count": null,
   "id": "3b979401-7db7-42fe-8f7f-32eed45c363d",
   "metadata": {},
   "outputs": [],
   "source": []
  }
 ],
 "metadata": {
  "kernelspec": {
   "display_name": "Python 3 (ipykernel)",
   "language": "python",
   "name": "python3"
  },
  "language_info": {
   "codemirror_mode": {
    "name": "ipython",
    "version": 3
   },
   "file_extension": ".py",
   "mimetype": "text/x-python",
   "name": "python",
   "nbconvert_exporter": "python",
   "pygments_lexer": "ipython3",
   "version": "3.12.1"
  }
 },
 "nbformat": 4,
 "nbformat_minor": 5
}
