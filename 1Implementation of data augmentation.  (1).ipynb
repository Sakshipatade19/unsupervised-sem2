{
 "cells": [
  {
   "cell_type": "code",
   "execution_count": 2,
   "id": "920e5149-fa2d-43cc-aa8c-4bd2cac89fed",
   "metadata": {},
   "outputs": [],
   "source": [
    "from tensorflow.keras.preprocessing.image import ImageDataGenerator\n",
    "from tensorflow.keras.utils import array_to_img , img_to_array,load_img"
   ]
  },
  {
   "cell_type": "code",
   "execution_count": 4,
   "id": "7706f95b-72b2-4dac-b1f4-be670e7267df",
   "metadata": {},
   "outputs": [],
   "source": [
    "data_gen =  ImageDataGenerator( rotation_range = 40,\n",
    "                               shear_range = 0.2,\n",
    "                               zoom_range = 0.2,\n",
    "                               horizontal_flip = True,\n",
    "                               brightness_range = (0.5,1.5))"
   ]
  },
  {
   "cell_type": "code",
   "execution_count": 6,
   "id": "f80cd0c5-b1dc-4f74-ac65-c6382c2d761b",
   "metadata": {},
   "outputs": [],
   "source": [
    "img = load_img('Data/Image/img.jpg')\n",
    "x= img_to_array(img) # conerting the imput : image to array"
   ]
  },
  {
   "cell_type": "code",
   "execution_count": 7,
   "id": "46e2946c-f42f-41f3-87f8-600b6df8131b",
   "metadata": {},
   "outputs": [],
   "source": [
    "x = x.reshape((1,) + x.shape) # reshaping the image"
   ]
  },
  {
   "cell_type": "code",
   "execution_count": 12,
   "id": "f60027f4-f2f7-426d-b755-47358c6c70cc",
   "metadata": {},
   "outputs": [],
   "source": [
    "i = 0\n",
    "for batch in data_gen.flow( x, batch_size =1 ,\n",
    "                           save_to_dir = 'preview',\n",
    "                           save_prefix = 'image',\n",
    "                           save_format = 'jpeg') : \n",
    "    i += 1\n",
    "    if i > 5 :\n",
    "        break"
   ]
  },
  {
   "cell_type": "code",
   "execution_count": null,
   "id": "b560450b-61bd-41bd-b256-35a26b2d0be2",
   "metadata": {},
   "outputs": [],
   "source": []
  }
 ],
 "metadata": {
  "kernelspec": {
   "display_name": "Python 3 (ipykernel)",
   "language": "python",
   "name": "python3"
  },
  "language_info": {
   "codemirror_mode": {
    "name": "ipython",
    "version": 3
   },
   "file_extension": ".py",
   "mimetype": "text/x-python",
   "name": "python",
   "nbconvert_exporter": "python",
   "pygments_lexer": "ipython3",
   "version": "3.11.2"
  }
 },
 "nbformat": 4,
 "nbformat_minor": 5
}
