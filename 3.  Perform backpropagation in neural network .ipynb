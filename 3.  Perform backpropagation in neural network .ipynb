{
 "cells": [
  {
   "cell_type": "code",
   "execution_count": 1,
   "id": "f125c596-f94d-469c-a854-31cfb05d6419",
   "metadata": {},
   "outputs": [],
   "source": [
    "import numpy as np\n",
    "# Input (X) and Expected Output (Y)\n",
    "X = np.array(([2, 9], [1, 5], [3, 6]), dtype=float)\n",
    "Y = np.array(([92], [86], [89]), dtype=float)\n",
    "\n",
    "# Normalize data\n",
    "X = X / np.amax(X, axis=0)\n",
    "Y = Y / 100"
   ]
  },
  {
   "cell_type": "code",
   "execution_count": 2,
   "id": "e0ee34f9-07d5-42ee-b330-45a844f60d86",
   "metadata": {},
   "outputs": [],
   "source": [
    "class NN(object):\n",
    "    def __init__(self):\n",
    "        self.inputsize = 2\n",
    "        self.outputsize = 1\n",
    "        self.hiddensize = 3   \n",
    "        # Initialize Weights\n",
    "        self.W1 = np.random.randn(self.inputsize, self.hiddensize)\n",
    "        self.W2 = np.random.randn(self.hiddensize, self.outputsize)\n",
    "\n",
    "    def sigmoidal(self, s):\n",
    "        return 1 / (1 + np.exp(-s))\n",
    "\n",
    "    def sigmoidal_derivative(self, s):\n",
    "        return s * (1 - s)\n",
    "\n",
    "    def forward(self, X):\n",
    "        self.z = np.dot(X, self.W1)  # Input to Hidden Layer\n",
    "        self.z2 = self.sigmoidal(self.z)  \n",
    "        self.z3 = np.dot(self.z2, self.W2)  # Hidden to Output Layer\n",
    "        self.op = self.sigmoidal(self.z3)  \n",
    "        return self.op\n",
    "\n",
    "    def backward(self, X, Y, learning_rate=0.1):\n",
    "        self.error = Y - self.op  # Compute error\n",
    "        self.delta_output = self.error * self.sigmoidal_derivative(self.op)  # Output layer delta\n",
    "        \n",
    "        self.error_hidden = self.delta_output.dot(self.W2.T)  # Hidden layer error\n",
    "        self.delta_hidden = self.error_hidden * self.sigmoidal_derivative(self.z2)  # Hidden layer delta\n",
    "        \n",
    "        self.W2 += self.z2.T.dot(self.delta_output) * learning_rate\n",
    "        self.W1 += X.T.dot(self.delta_hidden) * learning_rate\n",
    "\n",
    "    def train(self, X, Y, epochs=10000, learning_rate=0.1):\n",
    "        for epoch in range(epochs):\n",
    "            self.forward(X)\n",
    "            self.backward(X, Y, learning_rate)\n",
    "            if epoch % 1000 == 0:\n",
    "                loss = np.mean(np.square(Y - self.op))\n",
    "                print(f\"Epoch {epoch}: Loss = {loss}\")"
   ]
  },
  {
   "cell_type": "code",
   "execution_count": 3,
   "id": "8c117424-3e50-4092-8550-2ba5de74a79c",
   "metadata": {},
   "outputs": [
    {
     "name": "stdout",
     "output_type": "stream",
     "text": [
      "Epoch 0: Loss = 0.04554138031030688\n",
      "Epoch 1000: Loss = 0.0002952287374526569\n",
      "Epoch 2000: Loss = 0.00027167936544726944\n",
      "Epoch 3000: Loss = 0.0002536406133435701\n",
      "Epoch 4000: Loss = 0.00023885940847219095\n",
      "Epoch 5000: Loss = 0.0002266182919264903\n",
      "Epoch 6000: Loss = 0.00021637639173427415\n",
      "Epoch 7000: Loss = 0.00020772222870000918\n",
      "Epoch 8000: Loss = 0.00020034005222923395\n",
      "Epoch 9000: Loss = 0.00019398554335450877\n",
      "\n",
      "Final Output after Training:\n",
      "[[0.90455349]\n",
      " [0.87780896]\n",
      " [0.88689345]]\n"
     ]
    }
   ],
   "source": [
    "# Train Neural Network\n",
    "obj = NN()\n",
    "obj.train(X, Y)\n",
    "\n",
    "# Final Output\n",
    "print(\"\\nFinal Output after Training:\")\n",
    "print(obj.forward(X))"
   ]
  },
  {
   "cell_type": "code",
   "execution_count": null,
   "id": "d07da1a2-6e33-4e65-9751-10c412dabe79",
   "metadata": {},
   "outputs": [],
   "source": []
  }
 ],
 "metadata": {
  "kernelspec": {
   "display_name": "Python 3 (ipykernel)",
   "language": "python",
   "name": "python3"
  },
  "language_info": {
   "codemirror_mode": {
    "name": "ipython",
    "version": 3
   },
   "file_extension": ".py",
   "mimetype": "text/x-python",
   "name": "python",
   "nbconvert_exporter": "python",
   "pygments_lexer": "ipython3",
   "version": "3.11.2"
  }
 },
 "nbformat": 4,
 "nbformat_minor": 5
}
